{
 "cells": [
  {
   "cell_type": "code",
   "execution_count": 7,
   "metadata": {},
   "outputs": [
    {
     "name": "stdout",
     "output_type": "stream",
     "text": [
      "WARNING:tensorflow:From E:\\Anaconda\\envs\\tensorflow\\lib\\site-packages\\tensorflow\\python\\util\\tf_should_use.py:170: initialize_all_variables (from tensorflow.python.ops.variables) is deprecated and will be removed after 2017-03-02.\n",
      "Instructions for updating:\n",
      "Use `tf.global_variables_initializer` instead.\n",
      "0 [ 0.80954278] [-0.13797364]\n",
      "20 [ 0.28435564] [ 0.19861373]\n",
      "40 [ 0.14657605] [ 0.27438554]\n",
      "60 [ 0.1117671] [ 0.29352871]\n",
      "80 [ 0.10297286] [ 0.29836509]\n",
      "100 [ 0.10075108] [ 0.29958695]\n",
      "120 [ 0.10018975] [ 0.29989567]\n",
      "140 [ 0.10004795] [ 0.29997364]\n",
      "160 [ 0.10001211] [ 0.29999337]\n",
      "180 [ 0.10000306] [ 0.29999834]\n"
     ]
    }
   ],
   "source": [
    "import tensorflow as tf\n",
    "import numpy as np\n",
    "\n",
    "# create data\n",
    "x_data = np.random.rand(100).astype(np.float32)\n",
    "y_data = x_data*0.1 + 0.3\n",
    "\n",
    "### create tensorflow structure start ###\n",
    "Weights = tf.Variable(tf.random_uniform([1],-0.1,1.0))\n",
    "biases = tf.Variable(tf.zeros([1]))\n",
    "\n",
    "y = Weights*x_data + biases\n",
    "\n",
    "loss = tf.reduce_mean(tf.square(y-y_data))\n",
    "optimizer = tf.train.GradientDescentOptimizer(0.5)\n",
    "train = optimizer.minimize(loss)\n",
    "\n",
    "init = tf.initialize_all_variables()\n",
    "### create tensorflow structure end ###\n",
    "\n",
    "sess = tf.Session()\n",
    "sess.run(init)  # Very important\n",
    "\n",
    "for step in range(200):\n",
    "    sess.run(train)\n",
    "    if step % 20 ==0:\n",
    "        print(step,sess.run(Weights),sess.run(biases))"
   ]
  },
  {
   "cell_type": "code",
   "execution_count": 11,
   "metadata": {},
   "outputs": [
    {
     "name": "stdout",
     "output_type": "stream",
     "text": [
      "[[12]]\n",
      "[[12]]\n"
     ]
    }
   ],
   "source": [
    "import tensorflow as tf\n",
    "\n",
    "# 生成矩阵\n",
    "matrix1 = tf.constant([[3,3]])\n",
    "matrix2 = tf.constant([[2],[2]])\n",
    "# 矩阵乘法 np.dot\n",
    "product = tf.matmul(matrix1,matrix2)\n",
    "\n",
    "# method 1\n",
    "sess=tf.Session()\n",
    "result = sess.run(product)\n",
    "print(result)\n",
    "sess.close()\n",
    "\n",
    "# method 2\n",
    "    # 运行完会自动close掉sess\n",
    "with tf.Session() as sess:\n",
    "    result2 = sess.run(product)\n",
    "    print(result2)"
   ]
  },
  {
   "cell_type": "code",
   "execution_count": 16,
   "metadata": {},
   "outputs": [
    {
     "name": "stdout",
     "output_type": "stream",
     "text": [
      "counter_4:0\n",
      "WARNING:tensorflow:From E:\\Anaconda\\envs\\tensorflow\\lib\\site-packages\\tensorflow\\python\\util\\tf_should_use.py:170: initialize_all_variables (from tensorflow.python.ops.variables) is deprecated and will be removed after 2017-03-02.\n",
      "Instructions for updating:\n",
      "Use `tf.global_variables_initializer` instead.\n",
      "1\n",
      "2\n",
      "3\n"
     ]
    }
   ],
   "source": [
    "import tensorflow as tf\n",
    "\n",
    "state = tf.Variable(0,name='counter')\n",
    "print(state.name)\n",
    "one = tf.constant(1)\n",
    "\n",
    "new_value = tf.add(state,one)\n",
    "# 把new_value加载到state\n",
    "update = tf.assign(state,new_value)\n",
    "\n",
    "# 初始化所有变量 must have if define variable\n",
    "init = tf.initialize_all_variables()\n",
    "\n",
    "with tf.Session() as sess:\n",
    "    sess.run(init);\n",
    "    for _ in range(3): # 三次循环\n",
    "        sess.run(update)\n",
    "        # 必须要用run指针\n",
    "        print(sess.run(state))\n"
   ]
  },
  {
   "cell_type": "code",
   "execution_count": 18,
   "metadata": {},
   "outputs": [
    {
     "name": "stdout",
     "output_type": "stream",
     "text": [
      "[ 14.]\n"
     ]
    }
   ],
   "source": [
    "import tensorflow as tf\n",
    "\n",
    "# 要给定一个type 大部分只能处理float32\n",
    "input1 = tf.placeholder(tf.float32)\n",
    "input2 = tf.placeholder(tf.float32)\n",
    "\n",
    "# 乘法运算 multiply\n",
    "output = tf.multiply(input1,input2)\n",
    "\n",
    "with tf.Session() as sess:\n",
    "    print(sess.run(output,feed_dict={input1:[7.],input2:[2.]}))\n"
   ]
  },
  {
   "cell_type": "code",
   "execution_count": 49,
   "metadata": {
    "scrolled": true
   },
   "outputs": [
    {
     "name": "stdout",
     "output_type": "stream",
     "text": [
      "WARNING:tensorflow:From E:\\Anaconda\\envs\\tensorflow\\lib\\site-packages\\tensorflow\\python\\util\\tf_should_use.py:170: initialize_all_variables (from tensorflow.python.ops.variables) is deprecated and will be removed after 2017-03-02.\n",
      "Instructions for updating:\n",
      "Use `tf.global_variables_initializer` instead.\n"
     ]
    },
    {
     "data": {
      "image/png": "[encoded data removed]",
      "text/plain": [
       "<matplotlib.figure.Figure at 0x1c1ba6d3240>"
      ]
     },
     "metadata": {},
     "output_type": "display_data"
    },
    {
     "name": "stdout",
     "output_type": "stream",
     "text": [
      "0.43447\n",
      "0.0154529\n",
      "0.00947109\n",
      "0.00747735\n",
      "0.00670519\n",
      "0.00621559\n",
      "0.00587104\n",
      "0.00557574\n",
      "0.00531699\n",
      "0.00507789\n",
      "0.0048878\n",
      "0.00472435\n",
      "0.00458567\n",
      "0.00445965\n",
      "0.00432739\n",
      "0.00419968\n",
      "0.00407728\n",
      "0.00395101\n",
      "0.00385496\n",
      "0.00377318\n"
     ]
    }
   ],
   "source": [
    "# matplot的time类找不到 改用Spyder运行查看结果\n",
    "\n",
    "import tensorflow as tf\n",
    "import numpy as np\n",
    "import matplotlib.pyplot as plt\n",
    "\n",
    "def add_layer(inputs,in_size,out_size,activation_function=None):\n",
    "    # 初始值随机比全部为零要好\n",
    "    Weights = tf.Variable(tf.random_normal([in_size,out_size]))\n",
    "    # 初始值全部为0.1 同上\n",
    "    biases = tf.Variable(tf.zeros([1,out_size]) + 0.1)\n",
    "    Wx_plus_b = tf.matmul(inputs,Weights)+biases\n",
    "    if activation_function is None:\n",
    "        outputs = Wx_plus_b\n",
    "    else:\n",
    "        outputs = activation_function(Wx_plus_b)\n",
    "    return outputs\n",
    "\n",
    "\n",
    "x_data = np.linspace(-1,1,300)[:,np.newaxis]\n",
    "noise = np.random.normal(0,0.05,x_data.shape) # 噪音\n",
    "y_data = np.square(x_data) - 0.5 + noise\n",
    "\n",
    "# 有点儿像函数内的变量\n",
    "    # 也可以用来选择部分数据训练模型\n",
    "xs = tf.placeholder(tf.float32,[None,1])\n",
    "ys = tf.placeholder(tf.float32,[None,1])\n",
    "\n",
    "# 第一个隐含层\n",
    "l1 = add_layer(xs,1,10,activation_function=tf.nn.relu)\n",
    "# 输出层\n",
    "prediction = add_layer(l1,10,1,activation_function=None)\n",
    "# lose function\n",
    "loss = tf.reduce_mean(tf.reduce_sum(tf.square(ys - prediction),reduction_indices=[1]))\n",
    "# 优化器参数 学习率，目标是minimize loss\n",
    "train_step = tf.train.GradientDescentOptimizer(0.1).minimize(loss)\n",
    "\n",
    "init = tf.initialize_all_variables()\n",
    "sess = tf.Session()\n",
    "sess.run(init)\n",
    "\n",
    "# 结果可视化\n",
    "fig = plt.figure()\n",
    "ax = fig.add_subplot(1,1,1)\n",
    "ax.scatter(x_data,y_data)\n",
    "# 可以任意plot 不会终止整个函数\n",
    "plt.ion()\n",
    "plt.show(block=False)\n",
    "\n",
    "for i in range(1000):\n",
    "    # 训练\n",
    "    sess.run(train_step,feed_dict={xs:x_data,ys:y_data})\n",
    "    if i % 50 == 0:\n",
    "        print(sess.run(loss,feed_dict={xs:x_data,ys:y_data}))   \n",
    "        try:\n",
    "            ax.lines.remove(lines[0])  # 取出lines的第一个线段\n",
    "        except Exception:\n",
    "            pass\n",
    "        prediction_value = sess.run(prediction,feed_dict={xs:x_data})\n",
    "        lines = ax.plot(x_data,prediction_value,'r-',lw=5)\n",
    "        time.sleep(0.1)\n"
   ]
  },
  {
   "cell_type": "code",
   "execution_count": 43,
   "metadata": {},
   "outputs": [
    {
     "data": {
      "text/plain": [
       "'Wed Oct 11 22:06:32 2017'"
      ]
     },
     "execution_count": 43,
     "metadata": {},
     "output_type": "execute_result"
    }
   ],
   "source": []
  },
  {
   "cell_type": "code",
   "execution_count": null,
   "metadata": {
    "collapsed": true
   },
   "outputs": [],
   "source": []
  },
  {
   "cell_type": "code",
   "execution_count": null,
   "metadata": {
    "collapsed": true
   },
   "outputs": [],
   "source": []
  },
  {
   "cell_type": "code",
   "execution_count": null,
   "metadata": {
    "collapsed": true
   },
   "outputs": [],
   "source": []
  }
 ],
 "metadata": {
  "kernelspec": {
   "display_name": "Python 3",
   "language": "python",
   "name": "python3"
  },
  "language_info": {
   "codemirror_mode": {
    "name": "ipython",
    "version": 3
   },
   "file_extension": ".py",
   "mimetype": "text/x-python",
   "name": "python",
   "nbconvert_exporter": "python",
   "pygments_lexer": "ipython3",
   "version": "3.5.4"
  }
 },
 "nbformat": 4,
 "nbformat_minor": 2
}
